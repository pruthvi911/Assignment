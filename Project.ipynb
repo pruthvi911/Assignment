{
 "cells": [
  {
   "cell_type": "code",
   "execution_count": 1,
   "id": "a85e71e6-f9ca-492c-a89e-164b426dca74",
   "metadata": {},
   "outputs": [],
   "source": [
    "import findspark\n",
    "findspark.init()\n",
    "import pyspark"
   ]
  },
  {
   "cell_type": "code",
   "execution_count": 2,
   "id": "ba562505-ddc5-46bf-abe3-ccbf6cd7fd49",
   "metadata": {},
   "outputs": [],
   "source": [
    "from pyspark.sql import SparkSession\n",
    "from pyspark.sql.functions import *"
   ]
  },
  {
   "cell_type": "code",
   "execution_count": 14,
   "id": "11fb9285-2b59-4cd6-bdca-77c19a758f57",
   "metadata": {},
   "outputs": [],
   "source": [
    "spark = SparkSession.builder.appName(\"EarthquakeData\").getOrCreate()\n",
    "\n",
    "# Read CSV into PySpark DataFrame\n",
    "df = spark.read.csv(\"/Users/pruth/Downloads/data/database.csv\", header=True, inferSchema=True)"
   ]
  },
  {
   "cell_type": "code",
   "execution_count": null,
   "id": "711d51a3-08fd-4d15-9981-d8a34275a4ef",
   "metadata": {},
   "outputs": [],
   "source": [
    "# Write DataFrame to MySQL\n",
    "df.write.format(\"jdbc\").options(\n",
    "    url=\"jdbc:mysql://localhost:3306/earthquake_db\",\n",
    "    driver=\"com.mysql.jdbc.Driver\",\n",
    "    dbtable=\"neic_earthquakes\",\n",
    "    user=\"root\",\n",
    "    password=\"root\"\n",
    ").mode(\"overwrite\").save()"
   ]
  },
  {
   "cell_type": "code",
   "execution_count": null,
   "id": "180380b1-a49e-4ec7-ba8e-a608d471817f",
   "metadata": {},
   "outputs": [],
   "source": [
    "# Read data from MySQL\n",
    "df_mysql = spark.read.format(\"jdbc\").options(\n",
    "    url=\"jdbc:mysql://localhost:3306/earthquake_db\",\n",
    "    driver=\"com.mysql.jdbc.Driver\",\n",
    "    dbtable=\"neic_earthquakes\",\n",
    "    user=\"root\",\n",
    "    password=\"root\"\n",
    ").load()"
   ]
  },
  {
   "cell_type": "code",
   "execution_count": null,
   "id": "8406a72d-46f4-4598-a1fd-8e8613b75450",
   "metadata": {},
   "outputs": [],
   "source": [
    "#1.How does the Day of a Week affect the number of earthquakes?\n",
    "day_of_week_counts = df_mysql.groupBy(dayofweek(\"Date\").alias(\"DayOfWeek\")).count()\n",
    "day_of_week_counts.show()"
   ]
  },
  {
   "cell_type": "code",
   "execution_count": null,
   "id": "05b8ebb9-1c14-448a-ae20-b8c08930960c",
   "metadata": {},
   "outputs": [],
   "source": [
    "#2.What is the relation between Day of the month and Number of earthquakes that happened in a year?\n",
    "day_month_year_counts = df_mysql.groupBy(dayofmonth(\"Date\").alias(\"DayOfMonth\"), year(\"Date\").alias(\"Year\")).count()\n",
    "day_month_year_counts.show()"
   ]
  },
  {
   "cell_type": "code",
   "execution_count": null,
   "id": "fdc4dfb2-9ac7-4696-b7f5-ab33a1e229d9",
   "metadata": {},
   "outputs": [],
   "source": [
    "#3.What does the average frequency of earthquakes in a month from the year 1965 to 2016 tell us?\n",
    "avg_frequency_by_month = df_mysql.filter((col(\"Year\") >= 1965) & (col(\"Year\") <= 2016)).groupBy(month(\"Date\").alias(\"Month\")).agg(avg(\"count\").alias(\"AverageFrequency\"))\n",
    "avg_frequency_by_month.show()"
   ]
  },
  {
   "cell_type": "code",
   "execution_count": null,
   "id": "b3c4ff1f-46cc-461a-848b-4048a2b0b8c9",
   "metadata": {},
   "outputs": [],
   "source": [
    "#4.What is the relation between Year and Number of earthquakes that happened in that year?\n",
    "yearly_counts = df_mysql.groupBy(\"Year\").count()\n",
    "yearly_counts.show()"
   ]
  },
  {
   "cell_type": "code",
   "execution_count": null,
   "id": "87f94ec2-6c42-4682-8b06-2b94119f4cbc",
   "metadata": {},
   "outputs": [],
   "source": [
    "#5.How has the earthquake magnitude on average been varied over the years?\n",
    "avg_magnitude_by_year = df_mysql.groupBy(\"Year\").agg(avg(\"Magnitude\").alias(\"AverageMagnitude\"))\n",
    "avg_magnitude_by_year.show()"
   ]
  },
  {
   "cell_type": "code",
   "execution_count": null,
   "id": "bf3b9d17-63bc-4748-ae2e-bf7ba86d69bb",
   "metadata": {},
   "outputs": [],
   "source": [
    "#6.How does year impact the standard deviation of the earthquakes?\n",
    "stddev_by_year = df_mysql.groupBy(\"Year\").agg(stddev(\"Magnitude\").alias(\"MagnitudeStdDev\"))\n",
    "stddev_by_year.show()\n"
   ]
  },
  {
   "cell_type": "code",
   "execution_count": null,
   "id": "c222560e-da14-45f0-a46a-1074686199eb",
   "metadata": {},
   "outputs": [],
   "source": [
    "#7.Does geographic location have anything to do with earthquakes?\n",
    "location_counts = df_mysql.groupBy(\"Location\").count()\n",
    "location_counts.show()"
   ]
  },
  {
   "cell_type": "code",
   "execution_count": null,
   "id": "62cf6089-ea3f-49ff-9573-566ec2d1ee3a",
   "metadata": {},
   "outputs": [],
   "source": [
    "#8.Where do earthquakes occur very frequently?\n",
    "frequent_locations = location_counts.orderBy(col(\"count\").desc())\n",
    "frequent_locations.show()"
   ]
  },
  {
   "cell_type": "code",
   "execution_count": null,
   "id": "39051e9a-76bb-4432-8081-3e7401020731",
   "metadata": {},
   "outputs": [],
   "source": [
    "#9.What is the relation between Magnitude, Magnitude Type, Status, and Root Mean Square of the earthquakes?\n",
    "magnitude_relation = df_mysql.select(\"Magnitude\", \"MagType\", \"Status\", \"RootMeanSquare\")\n",
    "magnitude_relation.show()"
   ]
  },
  {
   "cell_type": "code",
   "execution_count": null,
   "id": "39f9be27-8835-495d-8d68-3620ab014b37",
   "metadata": {},
   "outputs": [],
   "source": []
  },
  {
   "cell_type": "code",
   "execution_count": null,
   "id": "b5fb0eda-e183-40ca-ad0e-6e813203d728",
   "metadata": {},
   "outputs": [],
   "source": []
  }
 ],
 "metadata": {
  "kernelspec": {
   "display_name": "Python 3 (ipykernel)",
   "language": "python",
   "name": "python3"
  },
  "language_info": {
   "codemirror_mode": {
    "name": "ipython",
    "version": 3
   },
   "file_extension": ".py",
   "mimetype": "text/x-python",
   "name": "python",
   "nbconvert_exporter": "python",
   "pygments_lexer": "ipython3",
   "version": "3.12.0"
  }
 },
 "nbformat": 4,
 "nbformat_minor": 5
}
